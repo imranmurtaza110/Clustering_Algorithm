{
  "cells": [
    {
      "cell_type": "markdown",
      "metadata": {
        "id": "view-in-github",
        "colab_type": "text"
      },
      "source": [
        "<a href=\"https://colab.research.google.com/github/imranmurtaza110/Clustering_Algorithm/blob/main/clustering_techniques.ipynb\" target=\"_parent\"><img src=\"https://colab.research.google.com/assets/colab-badge.svg\" alt=\"Open In Colab\"/></a>"
      ]
    },
    {
      "cell_type": "code",
      "execution_count": 10,
      "metadata": {
        "id": "mxY1bjZTGXJw"
      },
      "outputs": [],
      "source": [
        "import numpy as np\n",
        "import matplotlib.pyplot as plt\n",
        "from math import sqrt"
      ]
    },
    {
      "cell_type": "code",
      "execution_count": 11,
      "metadata": {
        "id": "s_yVr8GxGdLD"
      },
      "outputs": [],
      "source": [
        "import os"
      ]
    },
    {
      "cell_type": "code",
      "execution_count": 12,
      "metadata": {
        "id": "YPbv-52jGe2L"
      },
      "outputs": [],
      "source": [
        "def read_data(directory_path):\n",
        "  current_directory = os.getcwd()\n",
        "  path = current_directory + '/sample_data/dataset'\n",
        "  data = []\n",
        "  try:\n",
        "    with open(path, 'r') as file:\n",
        "      for line in file:\n",
        "        data.append(line.strip().split(' '))\n",
        "\n",
        "  except Exception as e:\n",
        "    print(\"An error occurred:\", e)\n",
        "\n",
        "  return data\n",
        "\n",
        "directory_path = '/sample_data/dataset'\n",
        "data = read_data(directory_path)"
      ]
    },
    {
      "cell_type": "code",
      "execution_count": 13,
      "metadata": {
        "id": "6XnhmnbUGi2D"
      },
      "outputs": [],
      "source": [
        "data = [row[1:] for row in data]"
      ]
    },
    {
      "cell_type": "code",
      "execution_count": 14,
      "metadata": {
        "id": "8I-bHkjTGmrn"
      },
      "outputs": [],
      "source": [
        "def euclidean_distance(x, y):\n",
        "    return np.linalg.norm(np.array(x, dtype=float) - np.array(y, dtype=float))"
      ]
    },
    {
      "cell_type": "code",
      "execution_count": 15,
      "metadata": {
        "id": "pe8s3-paGqjv"
      },
      "outputs": [],
      "source": [
        "def initialization(k, data, seed_value):\n",
        "    np.random.seed(seed_value)\n",
        "    data = np.array(data)\n",
        "\n",
        "    indices = np.random.choice(data.shape[0], k, replace=False)\n",
        "    centroids = data[indices]\n",
        "    return centroids\n",
        "\n",
        "k = 9\n",
        "seed_value = 72\n",
        "initial_centroids = initialization(9, data, 72)"
      ]
    },
    {
      "cell_type": "code",
      "execution_count": 16,
      "metadata": {
        "id": "D1TckjYNGvv-"
      },
      "outputs": [],
      "source": [
        "import numpy as np\n",
        "\n",
        "def k_mean_algorithm(initial_centroids, data):\n",
        "    data = np.array(data)\n",
        "    k = len(initial_centroids)\n",
        "    centroids = np.array(initial_centroids, dtype=float)\n",
        "    clusters = {i: [] for i in range(k)}\n",
        "\n",
        "    while True:\n",
        "        # Clear clusters for new assignments\n",
        "        for i in clusters:\n",
        "          clusters[i] = []\n",
        "\n",
        "        # Assign each data point to the nearest centroid\n",
        "        for idx, point in enumerate(data):\n",
        "            distances = [euclidean_distance(point, centroids[j]) for j in range(k)]\n",
        "            nearest_centroid_index = np.argmin(distances)\n",
        "            clusters[nearest_centroid_index].append(idx)  # Assign index of the point\n",
        "\n",
        "        # Calculate new centroids\n",
        "        new_centroids = np.zeros_like(centroids)\n",
        "        for i in range(k):\n",
        "            if clusters[i]:\n",
        "                numeric_data = np.array(data[clusters[i]], dtype=float)\n",
        "                new_centroids[i] = np.mean(numeric_data, axis=0)\n",
        "            else:  # If a cluster is empty, reinitialize it\n",
        "                new_centroids[i] = data[np.random.randint(0, len(data))]\n",
        "\n",
        "        # Check for convergence\n",
        "        if np.allclose(centroids, new_centroids, atol=1e-4):\n",
        "            break\n",
        "        centroids = new_centroids\n",
        "\n",
        "    return centroids, clusters\n"
      ]
    },
    {
      "cell_type": "code",
      "execution_count": 17,
      "metadata": {
        "id": "ZRfmnf1YGyR7"
      },
      "outputs": [],
      "source": [
        "def get_centroids_and_clusters(initial_centroids, data):\n",
        "  k = 9\n",
        "  centroids = {}\n",
        "  clusters = {}\n",
        "  for i in range(k):\n",
        "    centroids[i], clusters[i] = k_mean_algorithm(initial_centroids[:i+1], data)\n",
        "\n",
        "  return centroids, clusters"
      ]
    },
    {
      "cell_type": "code",
      "execution_count": 18,
      "metadata": {
        "id": "nYbJG1gpG1_i"
      },
      "outputs": [],
      "source": [
        "centroids, clusters = get_centroids_and_clusters(initial_centroids, data)"
      ]
    },
    {
      "cell_type": "code",
      "execution_count": 19,
      "metadata": {
        "id": "FLAkvCG9G81-",
        "colab": {
          "base_uri": "https://localhost:8080/"
        },
        "outputId": "f2b81e50-610c-4612-a65d-94336856cf50"
      },
      "outputs": [
        {
          "output_type": "stream",
          "name": "stdout",
          "text": [
            "327\n",
            "327\n",
            "327\n",
            "327\n",
            "327\n",
            "327\n",
            "327\n",
            "327\n",
            "327\n",
            "9\n",
            "53\n"
          ]
        }
      ],
      "source": [
        "total_length = 0\n",
        "for i in range(len(clusters)):\n",
        "  total_length = 0\n",
        "  for j in range(len(clusters[i])):\n",
        "    total_length += len(clusters[i][j])\n",
        "\n",
        "  print(total_length)\n",
        "\n",
        "print(len(centroids))\n",
        "print(len(clusters[2][1]))"
      ]
    },
    {
      "cell_type": "code",
      "execution_count": 20,
      "metadata": {
        "id": "qwynI--GHJi1"
      },
      "outputs": [],
      "source": [
        "def distance_matrix(dataset, dist=euclidean_distance):\n",
        "    N = len(dataset)\n",
        "    dist_matrix = np.zeros((N, N))\n",
        "    for i in range(N):\n",
        "        for j in range(N):\n",
        "            if i < j:\n",
        "                dist_value = dist(dataset[i], dataset[j])  # Correctly call the distance function\n",
        "                dist_matrix[i][j] = dist_value\n",
        "                dist_matrix[j][i] = dist_value  # Use the computed distance value\n",
        "\n",
        "    return dist_matrix\n",
        "\n",
        "dist_matrix = distance_matrix(data, euclidean_distance)"
      ]
    },
    {
      "cell_type": "code",
      "source": [
        "print(sum(dist_matrix[0])/(len(dist_matrix)-1))\n",
        "for i in range(4):\n",
        "  for j in range(1):\n",
        "    print(dist_matrix[i][j])"
      ],
      "metadata": {
        "colab": {
          "base_uri": "https://localhost:8080/"
        },
        "id": "UD2ryC-UfWTq",
        "outputId": "416390ea-ec48-459e-b3a6-3a5df51baf43"
      },
      "execution_count": 21,
      "outputs": [
        {
          "output_type": "stream",
          "name": "stdout",
          "text": [
            "8.446500795669056\n",
            "0.0\n",
            "6.911995739262059\n",
            "7.2895758647311855\n",
            "6.955781644872582\n"
          ]
        }
      ]
    },
    {
      "cell_type": "code",
      "source": [
        "for cluster_id, points_indices in clusters.items():\n",
        "    print(points_indices)\n",
        "    for index in points_indices:\n",
        "      print(points_indices[index])\n",
        "\n",
        "    break"
      ],
      "metadata": {
        "colab": {
          "base_uri": "https://localhost:8080/"
        },
        "id": "VxBWZbYvf8LX",
        "outputId": "0028836c-c5f6-4949-dd8f-7d353d3931fe"
      },
      "execution_count": 22,
      "outputs": [
        {
          "output_type": "stream",
          "name": "stdout",
          "text": [
            "{0: [0, 1, 2, 3, 4, 5, 6, 7, 8, 9, 10, 11, 12, 13, 14, 15, 16, 17, 18, 19, 20, 21, 22, 23, 24, 25, 26, 27, 28, 29, 30, 31, 32, 33, 34, 35, 36, 37, 38, 39, 40, 41, 42, 43, 44, 45, 46, 47, 48, 49, 50, 51, 52, 53, 54, 55, 56, 57, 58, 59, 60, 61, 62, 63, 64, 65, 66, 67, 68, 69, 70, 71, 72, 73, 74, 75, 76, 77, 78, 79, 80, 81, 82, 83, 84, 85, 86, 87, 88, 89, 90, 91, 92, 93, 94, 95, 96, 97, 98, 99, 100, 101, 102, 103, 104, 105, 106, 107, 108, 109, 110, 111, 112, 113, 114, 115, 116, 117, 118, 119, 120, 121, 122, 123, 124, 125, 126, 127, 128, 129, 130, 131, 132, 133, 134, 135, 136, 137, 138, 139, 140, 141, 142, 143, 144, 145, 146, 147, 148, 149, 150, 151, 152, 153, 154, 155, 156, 157, 158, 159, 160, 161, 162, 163, 164, 165, 166, 167, 168, 169, 170, 171, 172, 173, 174, 175, 176, 177, 178, 179, 180, 181, 182, 183, 184, 185, 186, 187, 188, 189, 190, 191, 192, 193, 194, 195, 196, 197, 198, 199, 200, 201, 202, 203, 204, 205, 206, 207, 208, 209, 210, 211, 212, 213, 214, 215, 216, 217, 218, 219, 220, 221, 222, 223, 224, 225, 226, 227, 228, 229, 230, 231, 232, 233, 234, 235, 236, 237, 238, 239, 240, 241, 242, 243, 244, 245, 246, 247, 248, 249, 250, 251, 252, 253, 254, 255, 256, 257, 258, 259, 260, 261, 262, 263, 264, 265, 266, 267, 268, 269, 270, 271, 272, 273, 274, 275, 276, 277, 278, 279, 280, 281, 282, 283, 284, 285, 286, 287, 288, 289, 290, 291, 292, 293, 294, 295, 296, 297, 298, 299, 300, 301, 302, 303, 304, 305, 306, 307, 308, 309, 310, 311, 312, 313, 314, 315, 316, 317, 318, 319, 320, 321, 322, 323, 324, 325, 326]}\n",
            "[0, 1, 2, 3, 4, 5, 6, 7, 8, 9, 10, 11, 12, 13, 14, 15, 16, 17, 18, 19, 20, 21, 22, 23, 24, 25, 26, 27, 28, 29, 30, 31, 32, 33, 34, 35, 36, 37, 38, 39, 40, 41, 42, 43, 44, 45, 46, 47, 48, 49, 50, 51, 52, 53, 54, 55, 56, 57, 58, 59, 60, 61, 62, 63, 64, 65, 66, 67, 68, 69, 70, 71, 72, 73, 74, 75, 76, 77, 78, 79, 80, 81, 82, 83, 84, 85, 86, 87, 88, 89, 90, 91, 92, 93, 94, 95, 96, 97, 98, 99, 100, 101, 102, 103, 104, 105, 106, 107, 108, 109, 110, 111, 112, 113, 114, 115, 116, 117, 118, 119, 120, 121, 122, 123, 124, 125, 126, 127, 128, 129, 130, 131, 132, 133, 134, 135, 136, 137, 138, 139, 140, 141, 142, 143, 144, 145, 146, 147, 148, 149, 150, 151, 152, 153, 154, 155, 156, 157, 158, 159, 160, 161, 162, 163, 164, 165, 166, 167, 168, 169, 170, 171, 172, 173, 174, 175, 176, 177, 178, 179, 180, 181, 182, 183, 184, 185, 186, 187, 188, 189, 190, 191, 192, 193, 194, 195, 196, 197, 198, 199, 200, 201, 202, 203, 204, 205, 206, 207, 208, 209, 210, 211, 212, 213, 214, 215, 216, 217, 218, 219, 220, 221, 222, 223, 224, 225, 226, 227, 228, 229, 230, 231, 232, 233, 234, 235, 236, 237, 238, 239, 240, 241, 242, 243, 244, 245, 246, 247, 248, 249, 250, 251, 252, 253, 254, 255, 256, 257, 258, 259, 260, 261, 262, 263, 264, 265, 266, 267, 268, 269, 270, 271, 272, 273, 274, 275, 276, 277, 278, 279, 280, 281, 282, 283, 284, 285, 286, 287, 288, 289, 290, 291, 292, 293, 294, 295, 296, 297, 298, 299, 300, 301, 302, 303, 304, 305, 306, 307, 308, 309, 310, 311, 312, 313, 314, 315, 316, 317, 318, 319, 320, 321, 322, 323, 324, 325, 326]\n"
          ]
        }
      ]
    },
    {
      "cell_type": "code",
      "execution_count": 25,
      "metadata": {
        "id": "QjtRH4Q9g7db"
      },
      "outputs": [],
      "source": [
        "def silhouette_coefficient(dataset, clusters, dist_matrix):\n",
        "    if len(clusters) < 2:\n",
        "      return 0\n",
        "\n",
        "    N = len(dataset)\n",
        "    silhouette = np.zeros(N)\n",
        "    a = np.zeros(N)\n",
        "    b = np.full(N, np.inf)  # Initialize b to infinity for proper minimum comparison\n",
        "\n",
        "    # Iterate over each cluster and each point within the cluster\n",
        "    for cluster_id, points_indices in clusters.items():\n",
        "\n",
        "        for index in points_indices:\n",
        "            # Calculate intra-cluster distances (a[index])\n",
        "            intra_distances = [dist_matrix[index, other] for other in points_indices if other != index]\n",
        "            a[index] = np.mean(intra_distances) if intra_distances else 0  # Avoid division by zero\n",
        "\n",
        "            # Calculate nearest other cluster distances (b[index])\n",
        "            for other_cluster_id, other_points_indices in clusters.items():\n",
        "                if other_cluster_id != cluster_id:\n",
        "                    # Calculate all distances from current point to points in other clusters\n",
        "                    inter_distances = [dist_matrix[index, other] for other in other_points_indices]\n",
        "                    if inter_distances:\n",
        "                        min_inter_distance = np.mean(inter_distances)\n",
        "                        if min_inter_distance < b[index]:\n",
        "                            b[index] = min_inter_distance\n",
        "\n",
        "\n",
        "    # Calculate the silhouette coefficient for each object\n",
        "    for i in range(N):\n",
        "        if a[i] > 0:\n",
        "            silhouette[i] = (b[i] - a[i]) / max(a[i], b[i])\n",
        "        else:\n",
        "            silhouette[i] = 0  # Can set to 0 or an appropriate value when a[i] is 0\n",
        "\n",
        "    return np.mean(silhouette)\n",
        "\n"
      ]
    },
    {
      "cell_type": "code",
      "execution_count": 26,
      "metadata": {
        "id": "rYNIgYcDriHY"
      },
      "outputs": [],
      "source": [
        "def get_silhouttee_scores(data, clusters, dist_matrix):\n",
        "  silhouttee_scores = []\n",
        "  for i in range(len(clusters)):\n",
        "    clustering_index = {}\n",
        "    for cluster_id, item in clusters[i].items():\n",
        "      clustering_index[cluster_id] = item\n",
        "\n",
        "    average_silhouette = silhouette_coefficient(data, clustering_index, dist_matrix)\n",
        "    silhouttee_scores.append(average_silhouette)\n",
        "\n",
        "  return silhouttee_scores\n",
        "\n",
        "\n",
        "silhouttee_scores = get_silhouttee_scores(data, clusters, dist_matrix)"
      ]
    },
    {
      "cell_type": "code",
      "source": [
        "def graph_k_and_silhouttee(k, silhouttee):\n",
        "  x_axis = [i for i in range(1, k+1)]\n",
        "  y_axis = silhouttee\n",
        "  plt.plot(x_axis, y_axis)\n",
        "  plt.xlabel('Steps')\n",
        "  plt.ylabel('Episodes')\n",
        "  plt.title('Episodes / Steps')\n",
        "  plt.show()\n",
        "\n",
        "k = 9\n",
        "graph_k_and_silhouttee(k, silhouttee_scores)"
      ],
      "metadata": {
        "colab": {
          "base_uri": "https://localhost:8080/",
          "height": 472
        },
        "id": "3C0It5Yjk8Bo",
        "outputId": "790277b6-929b-443a-f2ab-6577e5f6e1c6"
      },
      "execution_count": 27,
      "outputs": [
        {
          "output_type": "display_data",
          "data": {
            "text/plain": [
              "<Figure size 640x480 with 1 Axes>"
            ],
            "image/png": "[encoded data removed]"
          },
          "metadata": {}
        }
      ]
    },
    {
      "cell_type": "markdown",
      "source": [
        "**Part 2**"
      ],
      "metadata": {
        "id": "37XXObS5jqoy"
      }
    },
    {
      "cell_type": "code",
      "source": [
        "def synthetic_dataset(x_points, y_points):\n",
        "    return np.random.normal(loc=0, scale=1, size=(y_points, x_points))\n",
        "\n",
        "y_points = len(data)\n",
        "x_points = len(data[0])\n",
        "\n",
        "synthetic_dataset = synthetic_dataset(x_points, y_points)"
      ],
      "metadata": {
        "id": "p31PV5CUju8p"
      },
      "execution_count": 28,
      "outputs": []
    },
    {
      "cell_type": "code",
      "source": [
        "k = 9\n",
        "seed_value = 72\n",
        "synthetic_initial_centroids = initialization(k, synthetic_dataset, 72)"
      ],
      "metadata": {
        "id": "rvLWIY9FlteS"
      },
      "execution_count": 29,
      "outputs": []
    },
    {
      "cell_type": "code",
      "source": [
        "print(len(synthetic_initial_centroids[0]))"
      ],
      "metadata": {
        "colab": {
          "base_uri": "https://localhost:8080/"
        },
        "id": "vkJBPCErmCcy",
        "outputId": "baf4c763-f15e-45e8-94df-98627a30ef4e"
      },
      "execution_count": 30,
      "outputs": [
        {
          "output_type": "stream",
          "name": "stdout",
          "text": [
            "300\n"
          ]
        }
      ]
    },
    {
      "cell_type": "code",
      "source": [
        "synthetic_centroids, synthetic_clusters = get_centroids_and_clusters(synthetic_initial_centroids, data)"
      ],
      "metadata": {
        "id": "eHoksaI3lk0p"
      },
      "execution_count": 31,
      "outputs": []
    },
    {
      "cell_type": "code",
      "source": [
        "synthetic_dist_matrix = distance_matrix(synthetic_dataset, euclidean_distance)"
      ],
      "metadata": {
        "id": "5nFr9X4snSF1"
      },
      "execution_count": 32,
      "outputs": []
    },
    {
      "cell_type": "code",
      "source": [
        "synthetic_silhouttee_scores = get_silhouttee_scores(synthetic_dataset, synthetic_clusters, synthetic_dist_matrix)"
      ],
      "metadata": {
        "id": "IlxdaZMtnL7Z"
      },
      "execution_count": 33,
      "outputs": []
    },
    {
      "cell_type": "code",
      "source": [
        "print(synthetic_silhouttee_scores)"
      ],
      "metadata": {
        "colab": {
          "base_uri": "https://localhost:8080/"
        },
        "id": "XxcHD9gxoTEg",
        "outputId": "1362e5f7-289e-474a-96b5-bbcf3a61bb54"
      },
      "execution_count": 34,
      "outputs": [
        {
          "output_type": "stream",
          "name": "stdout",
          "text": [
            "[0, 0.00014812267622925818, -0.01876156255338792, -0.0029577159601162626, -0.013234784947130037, -0.00495117785157419, -0.011977778001504728, -0.033281691559869826, -0.043663155751992436]\n"
          ]
        }
      ]
    },
    {
      "cell_type": "code",
      "source": [
        "k = 9\n",
        "graph_k_and_silhouttee(k, silhouttee_scores)"
      ],
      "metadata": {
        "colab": {
          "base_uri": "https://localhost:8080/",
          "height": 472
        },
        "id": "JVo6GPQqolq_",
        "outputId": "17e2f5dc-626b-4733-ec2f-2168b545dd52"
      },
      "execution_count": 35,
      "outputs": [
        {
          "output_type": "display_data",
          "data": {
            "text/plain": [
              "<Figure size 640x480 with 1 Axes>"
            ],
            "image/png": "[encoded data removed]"
          },
          "metadata": {}
        }
      ]
    },
    {
      "cell_type": "markdown",
      "source": [
        "**Part 3**"
      ],
      "metadata": {
        "id": "DSdg5382oydB"
      }
    },
    {
      "cell_type": "code",
      "source": [
        "def initialization_plus_plus(k, dist_matrix, data, seed_value):\n",
        "    np.random.seed(seed_value)\n",
        "\n",
        "    num_points = dist_matrix.shape[0]\n",
        "    centroids = []\n",
        "\n",
        "    # Randomly select the first centroid\n",
        "    centroids.append(np.random.choice(num_points))\n",
        "\n",
        "    # Select remaining centroids\n",
        "    for _ in range(1, k):\n",
        "        # Compute distances from each data point to the nearest centroid\n",
        "        min_distances = np.min(dist_matrix[centroids], axis=0)\n",
        "\n",
        "        # Choose the next centroid with probability proportional to squared distance\n",
        "        probabilities = min_distances**2 / np.sum(min_distances**2)\n",
        "        next_centroid_index = np.random.choice(num_points, p=probabilities)\n",
        "        centroids.append(next_centroid_index)\n",
        "\n",
        "    # Get the actual data points corresponding to the selected indices\n",
        "    centroids = [data[index] for index in centroids]\n",
        "\n",
        "    return centroids\n",
        "\n",
        "\n",
        "\n",
        "initial_centroids_plus_plus = initialization_plus_plus(k, dist_matrix, data, seed_value)"
      ],
      "metadata": {
        "id": "0Hndl5FxoxaB"
      },
      "execution_count": 36,
      "outputs": []
    },
    {
      "cell_type": "code",
      "source": [
        "len(initial_centroids_plus_plus)"
      ],
      "metadata": {
        "colab": {
          "base_uri": "https://localhost:8080/"
        },
        "id": "_qxzYD0QuRaN",
        "outputId": "3931c987-2f4d-4088-e78a-68563c886898"
      },
      "execution_count": 37,
      "outputs": [
        {
          "output_type": "execute_result",
          "data": {
            "text/plain": [
              "9"
            ]
          },
          "metadata": {},
          "execution_count": 37
        }
      ]
    },
    {
      "cell_type": "code",
      "source": [
        "plus_plus_centroids, plus_plus_clusters = get_centroids_and_clusters(initial_centroids_plus_plus, data)"
      ],
      "metadata": {
        "id": "82SY0XtyrlRO"
      },
      "execution_count": 38,
      "outputs": []
    },
    {
      "cell_type": "code",
      "source": [
        "silhouttee_scores_plus_plus = get_silhouttee_scores(synthetic_dataset, plus_plus_clusters, dist_matrix)"
      ],
      "metadata": {
        "id": "e2vMWy2pvIE7"
      },
      "execution_count": 39,
      "outputs": []
    },
    {
      "cell_type": "code",
      "source": [
        "print(silhouttee_scores_plus_plus)"
      ],
      "metadata": {
        "colab": {
          "base_uri": "https://localhost:8080/"
        },
        "id": "0vy8xKeCvNS9",
        "outputId": "952fa475-d2e2-420d-9acb-9c1a56785d28"
      },
      "execution_count": 40,
      "outputs": [
        {
          "output_type": "stream",
          "name": "stdout",
          "text": [
            "[0, 0.1473173032244062, 0.14115485263933597, 0.09292051472011063, 0.08723881295729154, 0.08244411087315939, 0.08419029669098146, 0.08546860271622171, 0.07468091755915589]\n"
          ]
        }
      ]
    },
    {
      "cell_type": "code",
      "source": [
        "k = 9\n",
        "graph_k_and_silhouttee(k, silhouttee_scores_plus_plus)"
      ],
      "metadata": {
        "colab": {
          "base_uri": "https://localhost:8080/",
          "height": 472
        },
        "id": "2UyKlfrWvPVP",
        "outputId": "8998bcb2-ebee-4b71-e982-5388f78c82d7"
      },
      "execution_count": 41,
      "outputs": [
        {
          "output_type": "display_data",
          "data": {
            "text/plain": [
              "<Figure size 640x480 with 1 Axes>"
            ],
            "image/png": "[encoded data removed]"
          },
          "metadata": {}
        }
      ]
    },
    {
      "cell_type": "markdown",
      "source": [
        "**Part** 4"
      ],
      "metadata": {
        "id": "xWufoR-tvTyc"
      }
    },
    {
      "cell_type": "code",
      "source": [
        "def calculate_mse(cluster_points):\n",
        "    # Check if the cluster is empty\n",
        "    if len(cluster_points) == 0:\n",
        "        return 0\n",
        "\n",
        "    # Convert cluster_points to a numpy array of type float\n",
        "    cluster_points = np.array(cluster_points, dtype=float)\n",
        "\n",
        "    # Check the dimensions of the array\n",
        "    if len(cluster_points.shape) > 1:\n",
        "        # If multi-dimensional, calculate the centroid along axis 0 (per feature)\n",
        "        centroid = np.mean(cluster_points, axis=0)\n",
        "    else:\n",
        "        # If it is 1D, the centroid is just the mean of the array\n",
        "        centroid = np.mean(cluster_points)\n",
        "\n",
        "    # Calculate the squared distances from each point to the centroid\n",
        "    if len(cluster_points.shape) > 1:\n",
        "        squared_distances = np.sum((cluster_points - centroid) ** 2, axis=1)\n",
        "    else:\n",
        "        squared_distances = (cluster_points - centroid) ** 2\n",
        "\n",
        "    # Calculate the mean of the squared distances (MSE)\n",
        "    mse = np.mean(squared_distances)\n",
        "\n",
        "    return mse"
      ],
      "metadata": {
        "id": "UqgAmXlovSTo"
      },
      "execution_count": 42,
      "outputs": []
    },
    {
      "cell_type": "code",
      "source": [
        "def k_mean_algorithm(initial_centroids, data):\n",
        "    data = np.array(data)\n",
        "    k = len(initial_centroids)\n",
        "    centroids = np.array(initial_centroids, dtype=float)\n",
        "    clusters = {i: [] for i in range(k)}\n",
        "\n",
        "    while True:\n",
        "        # Clear clusters for new assignments\n",
        "        for i in clusters:\n",
        "          clusters[i] = []\n",
        "\n",
        "        # Assign each data point to the nearest centroid\n",
        "        for idx, point in enumerate(data):\n",
        "            distances = [euclidean_distance(point, centroids[j]) for j in range(k)]\n",
        "            nearest_centroid_index = np.argmin(distances)\n",
        "            clusters[nearest_centroid_index].append(idx)  # Assign index of the point\n",
        "\n",
        "        # Calculate new centroids\n",
        "        new_centroids = np.zeros_like(centroids)\n",
        "        for i in range(k):\n",
        "            if clusters[i]:\n",
        "                numeric_data = np.array(data[clusters[i]], dtype=float)\n",
        "                new_centroids[i] = np.mean(numeric_data, axis=0)\n",
        "            else:  # If a cluster is empty, reinitialize it\n",
        "                new_centroids[i] = data[np.random.randint(0, len(data))]\n",
        "\n",
        "        # Check for convergence\n",
        "        if np.allclose(centroids, new_centroids, atol=1e-4):\n",
        "            break\n",
        "        centroids = new_centroids\n",
        "\n",
        "    return centroids, clusters"
      ],
      "metadata": {
        "id": "bKxNKkVi9fUn"
      },
      "execution_count": 43,
      "outputs": []
    },
    {
      "cell_type": "code",
      "source": [
        "def play_dataset(data):\n",
        "  data = data[:2]\n",
        "  new_dataset = []\n",
        "  for i in range(len(data)):\n",
        "    d = []\n",
        "    for j in range(4):\n",
        "      d.append(data[i][j])\n",
        "      new_dataset.append(d)\n",
        "\n",
        "\n",
        "  return new_dataset\n",
        "\n",
        "dataset = play_dataset(data)\n",
        "print(dataset)"
      ],
      "metadata": {
        "colab": {
          "base_uri": "https://localhost:8080/"
        },
        "id": "Jdnbxz33_BpS",
        "outputId": "8caf6f1f-e4dc-4f8a-d03e-9b2aa0747208"
      },
      "execution_count": 44,
      "outputs": [
        {
          "output_type": "stream",
          "name": "stdout",
          "text": [
            "[['-0.015926', '-0.079864', '-0.33218', '0.034246'], ['-0.015926', '-0.079864', '-0.33218', '0.034246'], ['-0.015926', '-0.079864', '-0.33218', '0.034246'], ['-0.015926', '-0.079864', '-0.33218', '0.034246'], ['0.47727', '-0.91587', '-0.2977', '-0.22489'], ['0.47727', '-0.91587', '-0.2977', '-0.22489'], ['0.47727', '-0.91587', '-0.2977', '-0.22489'], ['0.47727', '-0.91587', '-0.2977', '-0.22489']]\n"
          ]
        }
      ]
    },
    {
      "cell_type": "code",
      "source": [
        "\n",
        "\n",
        "def bisecting_kmeans(dataset, num_clusters, seed_value=72):\n",
        "    clusters = {}\n",
        "\n",
        "\n",
        "    clusters[0] = dataset # Start with all data in one cluster\n",
        "    total_length = 0\n",
        "\n",
        "\n",
        "    while len(clusters) < num_clusters:\n",
        "        max_sse = -1\n",
        "        index_to_split = -1\n",
        "        for i, cluster in enumerate(clusters.values()):\n",
        "            print('Evaluating cluster:', i, 'with size:', len(cluster))\n",
        "            if len(cluster) > 1:  # Ensure there are enough points to split\n",
        "                sse = calculate_mse(cluster)\n",
        "                if sse > max_sse:\n",
        "                    max_sse = sse\n",
        "                    index_to_split = i\n",
        "\n",
        "        if index_to_split != -1:\n",
        "            initial_centroids = initialization(2, clusters[index_to_split], seed_value)\n",
        "            cluster_assignment = {}\n",
        "            centroids, cluster_assignment = k_mean_algorithm(initial_centroids, clusters[index_to_split])\n",
        "            new_clusters = {0: [], 1: []}\n",
        "\n",
        "            for idx, assign in enumerate(cluster_assignment):\n",
        "                points = [point for point in cluster_assignment[assign]]\n",
        "                new_clusters[idx] = [data[point] for point in points]\n",
        "\n",
        "            new_clusters = {k: np.array(v) for k, v in new_clusters.items()}\n",
        "\n",
        "            # Update the list of clusters\n",
        "            clusters[index_to_split] = new_clusters[0]\n",
        "            clusters[max(clusters.keys()) + 1] = new_clusters[1]\n",
        "\n",
        "            print(len(clusters))\n",
        "\n",
        "\n",
        "    return clusters"
      ],
      "metadata": {
        "id": "7-Ehhkk6b6bl"
      },
      "execution_count": 45,
      "outputs": []
    },
    {
      "cell_type": "code",
      "source": [
        "num_clusters = 9\n",
        "clusters = bisecting_kmeans(data, num_clusters, 72)"
      ],
      "metadata": {
        "colab": {
          "base_uri": "https://localhost:8080/"
        },
        "id": "wujqydSziMMM",
        "outputId": "493fba0d-5ade-46b3-9604-c8feed99f151"
      },
      "execution_count": 46,
      "outputs": [
        {
          "output_type": "stream",
          "name": "stdout",
          "text": [
            "Evaluating cluster: 0 with size: 327\n",
            "2\n",
            "Evaluating cluster: 0 with size: 166\n",
            "Evaluating cluster: 1 with size: 161\n",
            "3\n",
            "Evaluating cluster: 0 with size: 80\n",
            "Evaluating cluster: 1 with size: 161\n",
            "Evaluating cluster: 2 with size: 86\n",
            "4\n",
            "Evaluating cluster: 0 with size: 50\n",
            "Evaluating cluster: 1 with size: 161\n",
            "Evaluating cluster: 2 with size: 86\n",
            "Evaluating cluster: 3 with size: 30\n",
            "5\n",
            "Evaluating cluster: 0 with size: 29\n",
            "Evaluating cluster: 1 with size: 161\n",
            "Evaluating cluster: 2 with size: 86\n",
            "Evaluating cluster: 3 with size: 30\n",
            "Evaluating cluster: 4 with size: 21\n",
            "6\n",
            "Evaluating cluster: 0 with size: 29\n",
            "Evaluating cluster: 1 with size: 161\n",
            "Evaluating cluster: 2 with size: 86\n",
            "Evaluating cluster: 3 with size: 30\n",
            "Evaluating cluster: 4 with size: 3\n",
            "Evaluating cluster: 5 with size: 18\n",
            "7\n",
            "Evaluating cluster: 0 with size: 29\n",
            "Evaluating cluster: 1 with size: 161\n",
            "Evaluating cluster: 2 with size: 86\n",
            "Evaluating cluster: 3 with size: 30\n",
            "Evaluating cluster: 4 with size: 3\n",
            "Evaluating cluster: 5 with size: 12\n",
            "Evaluating cluster: 6 with size: 6\n",
            "8\n",
            "Evaluating cluster: 0 with size: 29\n",
            "Evaluating cluster: 1 with size: 85\n",
            "Evaluating cluster: 2 with size: 86\n",
            "Evaluating cluster: 3 with size: 30\n",
            "Evaluating cluster: 4 with size: 3\n",
            "Evaluating cluster: 5 with size: 12\n",
            "Evaluating cluster: 6 with size: 6\n",
            "Evaluating cluster: 7 with size: 76\n",
            "9\n"
          ]
        }
      ]
    },
    {
      "cell_type": "code",
      "source": [
        "print(len(clusters[3]))\n",
        "total_length = 0\n",
        "for i in range(len(clusters)):\n",
        "  total_length += len(clusters[i])\n",
        "  # print(clusters[i])\n",
        "\n",
        "print(total_length)\n",
        "\n"
      ],
      "metadata": {
        "colab": {
          "base_uri": "https://localhost:8080/"
        },
        "id": "qVKPQqGeaQ9_",
        "outputId": "1718df65-f923-4f41-8e89-c1fd3ba2794a"
      },
      "execution_count": 103,
      "outputs": [
        {
          "output_type": "stream",
          "name": "stdout",
          "text": [
            "30\n",
            "327\n"
          ]
        }
      ]
    },
    {
      "cell_type": "code",
      "source": [
        "values_list = clusters[0]\n",
        "value_v = 0\n",
        "count = 0\n",
        "for key, val in clusters.items():\n",
        "  print(key)\n",
        "  for value in val:\n",
        "    count+=1\n",
        "    if count == 5:\n",
        "      break\n",
        "    value_v = value\n",
        "    print(count)\n",
        "    # break\n",
        "\n",
        "  break\n",
        "\n",
        "indices = [i for i, v in enumerate(clusters[0]) if np.array_equal(v, value_v)]\n",
        "print(indices)\n",
        "\n",
        "index = []\n",
        "indices = []\n",
        "for cluster_id, value in enumerate(clusters.values()):\n",
        "  print(cluster_id)\n",
        "  for cluster in clusters[cluster_id]:\n",
        "    for i in range(len(data)):\n",
        "      if np.array_equal(cluster, data[i]):\n",
        "        index.append(i)\n",
        "        break\n",
        "\n",
        "  indices.append(index)\n",
        "\n",
        "\n"
      ],
      "metadata": {
        "colab": {
          "base_uri": "https://localhost:8080/"
        },
        "id": "HVAIOGxBsR6W",
        "outputId": "b071f5e4-ca2b-4a41-dec6-9539ada3b606"
      },
      "execution_count": 102,
      "outputs": [
        {
          "output_type": "stream",
          "name": "stdout",
          "text": [
            "0\n",
            "1\n",
            "2\n",
            "3\n",
            "4\n",
            "[3]\n",
            "0\n",
            "1\n",
            "2\n",
            "3\n",
            "4\n",
            "5\n",
            "6\n",
            "7\n",
            "8\n"
          ]
        }
      ]
    },
    {
      "cell_type": "code",
      "source": [
        "count=0\n",
        "for i in range(len(indices)):\n",
        "  for j in range(len(indices[i])):\n",
        "    count+=1\n",
        "    # print(indices[i][j])\n",
        "\n",
        "\n",
        "print(len(indices[2]))"
      ],
      "metadata": {
        "colab": {
          "base_uri": "https://localhost:8080/"
        },
        "id": "o8loUf83xl8c",
        "outputId": "5655bd79-a478-40a8-b1ef-8939a6ee798e"
      },
      "execution_count": 101,
      "outputs": [
        {
          "output_type": "stream",
          "name": "stdout",
          "text": [
            "327\n"
          ]
        }
      ]
    }
  ],
  "metadata": {
    "colab": {
      "provenance": [],
      "authorship_tag": "ABX9TyN7Wk6CWXfJOpb7yfAGXZzI",
      "include_colab_link": true
    },
    "kernelspec": {
      "display_name": "Python 3",
      "name": "python3"
    },
    "language_info": {
      "name": "python"
    }
  },
  "nbformat": 4,
  "nbformat_minor": 0
}