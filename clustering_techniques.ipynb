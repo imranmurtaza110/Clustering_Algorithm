{
  "cells": [
    {
      "cell_type": "markdown",
      "metadata": {
        "id": "view-in-github",
        "colab_type": "text"
      },
      "source": [
        "<a href=\"https://colab.research.google.com/github/imranmurtaza110/Clustering_Algorithm/blob/main/clustering_techniques.ipynb\" target=\"_parent\"><img src=\"https://colab.research.google.com/assets/colab-badge.svg\" alt=\"Open In Colab\"/></a>"
      ]
    },
    {
      "cell_type": "code",
      "execution_count": null,
      "metadata": {
        "id": "mxY1bjZTGXJw"
      },
      "outputs": [],
      "source": [
        "import numpy as np\n",
        "import matplotlib.pyplot as plt\n",
        "from math import sqrt"
      ]
    },
    {
      "cell_type": "code",
      "execution_count": null,
      "metadata": {
        "id": "s_yVr8GxGdLD"
      },
      "outputs": [],
      "source": [
        "import os"
      ]
    },
    {
      "cell_type": "code",
      "execution_count": null,
      "metadata": {
        "id": "YPbv-52jGe2L"
      },
      "outputs": [],
      "source": [
        "def read_data(directory_path):\n",
        "  current_directory = os.getcwd()\n",
        "  path = current_directory + '/sample_data/dataset'\n",
        "  data = []\n",
        "  try:\n",
        "    with open(path, 'r') as file:\n",
        "      for line in file:\n",
        "        data.append(line.strip().split(' '))\n",
        "\n",
        "  except Exception as e:\n",
        "    print(\"An error occurred:\", e)\n",
        "\n",
        "  return data\n",
        "\n",
        "directory_path = '/sample_data/dataset'\n",
        "data = read_data(directory_path)"
      ]
    },
    {
      "cell_type": "code",
      "execution_count": null,
      "metadata": {
        "id": "6XnhmnbUGi2D"
      },
      "outputs": [],
      "source": [
        "data = [row[1:] for row in data]"
      ]
    },
    {
      "cell_type": "code",
      "execution_count": null,
      "metadata": {
        "id": "8I-bHkjTGmrn"
      },
      "outputs": [],
      "source": [
        "def euclidean_distance(x, y):\n",
        "    return np.linalg.norm(np.array(x, dtype=float) - np.array(y, dtype=float))"
      ]
    },
    {
      "cell_type": "code",
      "execution_count": null,
      "metadata": {
        "id": "pe8s3-paGqjv"
      },
      "outputs": [],
      "source": [
        "def initialization(k, data, seed_value):\n",
        "    np.random.seed(seed_value)\n",
        "    data = np.array(data)\n",
        "\n",
        "    indices = np.random.choice(data.shape[0], k, replace=False)\n",
        "    centroids = data[indices]\n",
        "    return centroids\n",
        "\n",
        "k = 9\n",
        "seed_value = 72\n",
        "initial_centroids = initialization(9, data, 72)"
      ]
    },
    {
      "cell_type": "code",
      "execution_count": null,
      "metadata": {
        "id": "D1TckjYNGvv-"
      },
      "outputs": [],
      "source": [
        "import numpy as np\n",
        "\n",
        "def k_mean_algorithm(initial_centroids, data):\n",
        "    data = np.array(data)\n",
        "    k = len(initial_centroids)\n",
        "    centroids = np.array(initial_centroids, dtype=float)\n",
        "    clusters = {i: [] for i in range(k)}\n",
        "\n",
        "    while True:\n",
        "        # Clear clusters for new assignments\n",
        "        for i in clusters:\n",
        "          clusters[i] = []\n",
        "\n",
        "        # Assign each data point to the nearest centroid\n",
        "        for idx, point in enumerate(data):\n",
        "            distances = [euclidean_distance(point, centroids[j]) for j in range(k)]\n",
        "            nearest_centroid_index = np.argmin(distances)\n",
        "            clusters[nearest_centroid_index].append(idx)  # Assign index of the point\n",
        "\n",
        "        # Calculate new centroids\n",
        "        new_centroids = np.zeros_like(centroids)\n",
        "        for i in range(k):\n",
        "            if clusters[i]:\n",
        "                numeric_data = np.array(data[clusters[i]], dtype=float)\n",
        "                new_centroids[i] = np.mean(numeric_data, axis=0)\n",
        "            else:  # If a cluster is empty, reinitialize it\n",
        "                new_centroids[i] = data[np.random.randint(0, len(data))]\n",
        "\n",
        "        # Check for convergence\n",
        "        if np.allclose(centroids, new_centroids, atol=1e-4):\n",
        "            break\n",
        "        centroids = new_centroids\n",
        "\n",
        "    return centroids, clusters\n"
      ]
    },
    {
      "cell_type": "code",
      "execution_count": null,
      "metadata": {
        "id": "ZRfmnf1YGyR7"
      },
      "outputs": [],
      "source": [
        "def get_centroids_and_clusters(initial_centroids, data):\n",
        "  k = 9\n",
        "  centroids = {}\n",
        "  clusters = {}\n",
        "  for i in range(k):\n",
        "    centroids[i], clusters[i] = k_mean_algorithm(initial_centroids[:i+1], data)\n",
        "\n",
        "  return centroids, clusters"
      ]
    },
    {
      "cell_type": "code",
      "execution_count": null,
      "metadata": {
        "id": "nYbJG1gpG1_i"
      },
      "outputs": [],
      "source": [
        "centroids, clusters = get_centroids_and_clusters(initial_centroids, data)"
      ]
    },
    {
      "cell_type": "code",
      "execution_count": null,
      "metadata": {
        "id": "FLAkvCG9G81-",
        "colab": {
          "base_uri": "https://localhost:8080/"
        },
        "outputId": "83103d33-755d-4255-8139-d487f1a0902e"
      },
      "outputs": [
        {
          "output_type": "stream",
          "name": "stdout",
          "text": [
            "327\n",
            "327\n",
            "327\n",
            "327\n",
            "327\n",
            "327\n",
            "327\n",
            "327\n",
            "327\n",
            "9\n",
            "53\n"
          ]
        }
      ],
      "source": [
        "total_length = 0\n",
        "for i in range(len(clusters)):\n",
        "  total_length = 0\n",
        "  for j in range(len(clusters[i])):\n",
        "    total_length += len(clusters[i][j])\n",
        "\n",
        "  print(total_length)\n",
        "\n",
        "print(len(centroids))\n",
        "print(len(clusters[2][1]))"
      ]
    },
    {
      "cell_type": "code",
      "execution_count": null,
      "metadata": {
        "id": "qwynI--GHJi1"
      },
      "outputs": [],
      "source": [
        "def distance_matrix(dataset, dist=euclidean_distance):\n",
        "    N = len(dataset)\n",
        "    dist_matrix = np.zeros((N, N))\n",
        "    for i in range(N):\n",
        "        for j in range(N):\n",
        "            if i < j:\n",
        "                dist_value = dist(dataset[i], dataset[j])  # Correctly call the distance function\n",
        "                dist_matrix[i][j] = dist_value\n",
        "                dist_matrix[j][i] = dist_value  # Use the computed distance value\n",
        "\n",
        "    return dist_matrix\n",
        "\n",
        "dist_matrix = distance_matrix(data, euclidean_distance)"
      ]
    },
    {
      "cell_type": "code",
      "execution_count": null,
      "metadata": {
        "id": "QjtRH4Q9g7db"
      },
      "outputs": [],
      "source": [
        "def silhouette_coefficient(dataset, clusters, dist_matrix):\n",
        "    if len(clusters) < 2:\n",
        "      return 0\n",
        "\n",
        "    N = len(dataset)\n",
        "    silhouette = np.zeros(N)\n",
        "    a = np.zeros(N)\n",
        "    b = np.full(N, np.inf)  # Initialize b to infinity for proper minimum comparison\n",
        "\n",
        "    # Iterate over each cluster and each point within the cluster\n",
        "    for cluster_id, points_indices in clusters.items():\n",
        "\n",
        "        for index in points_indices:\n",
        "            # Calculate intra-cluster distances (a[index])\n",
        "            intra_distances = [dist_matrix[index, other] for other in points_indices if other != index]\n",
        "            a[index] = np.mean(intra_distances) if intra_distances else 0  # Avoid division by zero\n",
        "\n",
        "            # Calculate nearest other cluster distances (b[index])\n",
        "            for other_cluster_id, other_points_indices in clusters.items():\n",
        "                if other_cluster_id != cluster_id:\n",
        "                    # Calculate all distances from current point to points in other clusters\n",
        "                    inter_distances = [dist_matrix[index, other] for other in other_points_indices]\n",
        "                    if inter_distances:\n",
        "                        min_inter_distance = np.mean(inter_distances)\n",
        "                        if min_inter_distance < b[index]:\n",
        "                            b[index] = min_inter_distance\n",
        "\n",
        "\n",
        "    # Calculate the silhouette coefficient for each object\n",
        "    for i in range(N):\n",
        "        if a[i] > 0:\n",
        "            silhouette[i] = (b[i] - a[i]) / max(a[i], b[i])\n",
        "        else:\n",
        "            silhouette[i] = 0  # Can set to 0 or an appropriate value when a[i] is 0\n",
        "\n",
        "    return np.mean(silhouette)\n",
        "\n"
      ]
    },
    {
      "cell_type": "code",
      "execution_count": null,
      "metadata": {
        "id": "rYNIgYcDriHY"
      },
      "outputs": [],
      "source": [
        "def get_silhouttee_scores(data, clusters, dist_matrix):\n",
        "  silhouttee_scores = []\n",
        "  for i in range(len(clusters)):\n",
        "    clustering_index = {}\n",
        "    for cluster_id, item in clusters[i].items():\n",
        "      clustering_index[cluster_id] = item\n",
        "\n",
        "    average_silhouette = silhouette_coefficient(data, clustering_index, dist_matrix)\n",
        "    silhouttee_scores.append(average_silhouette)\n",
        "\n",
        "  return silhouttee_scores\n",
        "\n",
        "\n",
        "silhouttee_scores = get_silhouttee_scores(data, clusters, dist_matrix)"
      ]
    },
    {
      "cell_type": "code",
      "source": [
        "def graph_k_and_silhouttee(k, silhouttee):\n",
        "  x_axis = [i for i in range(1, k+1)]\n",
        "  y_axis = silhouttee\n",
        "  plt.plot(x_axis, y_axis)\n",
        "  plt.xlabel('Steps')\n",
        "  plt.ylabel('Episodes')\n",
        "  plt.title('Episodes / Steps')\n",
        "  plt.show()\n",
        "\n",
        "k = 9\n",
        "graph_k_and_silhouttee(k, silhouttee_scores)"
      ],
      "metadata": {
        "colab": {
          "base_uri": "https://localhost:8080/",
          "height": 472
        },
        "id": "3C0It5Yjk8Bo",
        "outputId": "e5391837-b094-4b41-c66f-cb32d06e79fa"
      },
      "execution_count": null,
      "outputs": [
        {
          "output_type": "display_data",
          "data": {
            "text/plain": [
              "<Figure size 640x480 with 1 Axes>"
            ],
            "image/png": "[encoded data removed]"
          },
          "metadata": {}
        }
      ]
    },
    {
      "cell_type": "markdown",
      "source": [
        "**Part 2**"
      ],
      "metadata": {
        "id": "37XXObS5jqoy"
      }
    },
    {
      "cell_type": "code",
      "source": [
        "def synthetic_dataset(x_points, y_points):\n",
        "    return np.random.normal(loc=0, scale=1, size=(y_points, x_points))\n",
        "\n",
        "y_points = len(data)\n",
        "x_points = len(data[0])\n",
        "\n",
        "synthetic_dataset = synthetic_dataset(x_points, y_points)"
      ],
      "metadata": {
        "id": "p31PV5CUju8p"
      },
      "execution_count": null,
      "outputs": []
    },
    {
      "cell_type": "code",
      "source": [
        "k = 9\n",
        "seed_value = 72\n",
        "synthetic_initial_centroids = initialization(k, synthetic_dataset, 72)"
      ],
      "metadata": {
        "id": "rvLWIY9FlteS"
      },
      "execution_count": null,
      "outputs": []
    },
    {
      "cell_type": "code",
      "source": [
        "print(len(synthetic_initial_centroids[0]))"
      ],
      "metadata": {
        "colab": {
          "base_uri": "https://localhost:8080/"
        },
        "id": "vkJBPCErmCcy",
        "outputId": "ef4862a1-62c7-4d9b-db17-c3ddec264b1e"
      },
      "execution_count": null,
      "outputs": [
        {
          "output_type": "stream",
          "name": "stdout",
          "text": [
            "300\n"
          ]
        }
      ]
    },
    {
      "cell_type": "code",
      "source": [
        "synthetic_centroids, synthetic_clusters = get_centroids_and_clusters(synthetic_initial_centroids, synthetic_dataset)"
      ],
      "metadata": {
        "id": "eHoksaI3lk0p"
      },
      "execution_count": null,
      "outputs": []
    },
    {
      "cell_type": "code",
      "source": [
        "synthetic_dist_matrix = distance_matrix(synthetic_dataset, euclidean_distance)"
      ],
      "metadata": {
        "id": "5nFr9X4snSF1"
      },
      "execution_count": null,
      "outputs": []
    },
    {
      "cell_type": "code",
      "source": [
        "synthetic_silhouttee_scores = get_silhouttee_scores(synthetic_dataset, synthetic_clusters, synthetic_dist_matrix)"
      ],
      "metadata": {
        "id": "IlxdaZMtnL7Z"
      },
      "execution_count": null,
      "outputs": []
    },
    {
      "cell_type": "code",
      "source": [
        "print(synthetic_silhouttee_scores)"
      ],
      "metadata": {
        "colab": {
          "base_uri": "https://localhost:8080/"
        },
        "id": "XxcHD9gxoTEg",
        "outputId": "deb0e72d-2624-4997-9c16-f3ed3956a84b"
      },
      "execution_count": null,
      "outputs": [
        {
          "output_type": "stream",
          "name": "stdout",
          "text": [
            "[0, 0.00228286460998378, 0.0005619303597494775, 0.0023276735325578678, 0.0008875390388461188, -0.0006986241733426897, -0.0013875089632238561, -0.0035838317451813927, -0.004696913808113745]\n"
          ]
        }
      ]
    },
    {
      "cell_type": "code",
      "source": [
        "k = 9\n",
        "graph_k_and_silhouttee(k, silhouttee_scores)"
      ],
      "metadata": {
        "colab": {
          "base_uri": "https://localhost:8080/",
          "height": 472
        },
        "id": "JVo6GPQqolq_",
        "outputId": "c0c7b101-932e-49c4-a9f9-0e514bd38341"
      },
      "execution_count": null,
      "outputs": [
        {
          "output_type": "display_data",
          "data": {
            "text/plain": [
              "<Figure size 640x480 with 1 Axes>"
            ],
            "image/png": "[encoded data removed]"
          },
          "metadata": {}
        }
      ]
    },
    {
      "cell_type": "markdown",
      "source": [
        "**Part 3**"
      ],
      "metadata": {
        "id": "DSdg5382oydB"
      }
    },
    {
      "cell_type": "code",
      "source": [
        "def initialization_plus_plus(k, dist_matrix, data, seed_value):\n",
        "    np.random.seed(seed_value)\n",
        "\n",
        "    num_points = dist_matrix.shape[0]\n",
        "    centroids = []\n",
        "\n",
        "    # Randomly select the first centroid\n",
        "    centroids.append(np.random.choice(num_points))\n",
        "\n",
        "    # Select remaining centroids\n",
        "    for _ in range(1, k):\n",
        "        # Compute distances from each data point to the nearest centroid\n",
        "        min_distances = np.min(dist_matrix[centroids], axis=0)\n",
        "\n",
        "        # Choose the next centroid with probability proportional to squared distance\n",
        "        probabilities = min_distances**2 / np.sum(min_distances**2)\n",
        "        next_centroid_index = np.random.choice(num_points, p=probabilities)\n",
        "        centroids.append(next_centroid_index)\n",
        "\n",
        "    # Get the actual data points corresponding to the selected indices\n",
        "    centroids = [data[index] for index in centroids]\n",
        "\n",
        "    return centroids\n",
        "\n",
        "\n",
        "\n",
        "initial_centroids_plus_plus = initialization_plus_plus(k, dist_matrix, data, seed_value)"
      ],
      "metadata": {
        "id": "0Hndl5FxoxaB"
      },
      "execution_count": null,
      "outputs": []
    },
    {
      "cell_type": "code",
      "source": [
        "len(initial_centroids_plus_plus)"
      ],
      "metadata": {
        "colab": {
          "base_uri": "https://localhost:8080/"
        },
        "id": "_qxzYD0QuRaN",
        "outputId": "9c5a9b0a-bc0e-4112-8b5a-b5e338a9644c"
      },
      "execution_count": null,
      "outputs": [
        {
          "output_type": "execute_result",
          "data": {
            "text/plain": [
              "9"
            ]
          },
          "metadata": {},
          "execution_count": 30
        }
      ]
    },
    {
      "cell_type": "code",
      "source": [
        "plus_plus_centroids, plus_plus_clusters = get_centroids_and_clusters(initial_centroids_plus_plus, data)"
      ],
      "metadata": {
        "id": "82SY0XtyrlRO"
      },
      "execution_count": null,
      "outputs": []
    },
    {
      "cell_type": "code",
      "source": [
        "silhouttee_scores_plus_plus = get_silhouttee_scores(synthetic_dataset, plus_plus_clusters, dist_matrix)"
      ],
      "metadata": {
        "id": "e2vMWy2pvIE7"
      },
      "execution_count": null,
      "outputs": []
    },
    {
      "cell_type": "code",
      "source": [
        "print(silhouttee_scores_plus_plus)"
      ],
      "metadata": {
        "colab": {
          "base_uri": "https://localhost:8080/"
        },
        "id": "0vy8xKeCvNS9",
        "outputId": "797b53e2-5784-4207-97a7-f7c141eeae08"
      },
      "execution_count": null,
      "outputs": [
        {
          "output_type": "stream",
          "name": "stdout",
          "text": [
            "[0, 0.1473173032244062, 0.14115485263933597, 0.09292051472011063, 0.08723881295729154, 0.08244411087315939, 0.08419029669098146, 0.08546860271622171, 0.07468091755915589]\n"
          ]
        }
      ]
    },
    {
      "cell_type": "code",
      "source": [
        "k = 9\n",
        "graph_k_and_silhouttee(k, silhouttee_scores_plus_plus)"
      ],
      "metadata": {
        "colab": {
          "base_uri": "https://localhost:8080/",
          "height": 472
        },
        "id": "2UyKlfrWvPVP",
        "outputId": "2bce7d2f-b9be-4748-b977-70f129e132d5"
      },
      "execution_count": null,
      "outputs": [
        {
          "output_type": "display_data",
          "data": {
            "text/plain": [
              "<Figure size 640x480 with 1 Axes>"
            ],
            "image/png": "[encoded data removed]"
          },
          "metadata": {}
        }
      ]
    },
    {
      "cell_type": "markdown",
      "source": [
        "**Part** 4"
      ],
      "metadata": {
        "id": "xWufoR-tvTyc"
      }
    },
    {
      "cell_type": "code",
      "source": [
        "def calculate_mse(cluster_points):\n",
        "    # Check if the cluster is empty\n",
        "    if len(cluster_points) == 0:\n",
        "        return 0\n",
        "\n",
        "    # Convert cluster_points to a numpy array of type float\n",
        "    cluster_points = np.array(cluster_points, dtype=float)\n",
        "\n",
        "    # Check the dimensions of the array\n",
        "    if len(cluster_points.shape) > 1:\n",
        "        # If multi-dimensional, calculate the centroid along axis 0 (per feature)\n",
        "        centroid = np.mean(cluster_points, axis=0)\n",
        "    else:\n",
        "        # If it is 1D, the centroid is just the mean of the array\n",
        "        centroid = np.mean(cluster_points)\n",
        "\n",
        "    # Calculate the squared distances from each point to the centroid\n",
        "    if len(cluster_points.shape) > 1:\n",
        "        squared_distances = np.sum((cluster_points - centroid) ** 2, axis=1)\n",
        "    else:\n",
        "        squared_distances = (cluster_points - centroid) ** 2\n",
        "\n",
        "    # Calculate the mean of the squared distances (MSE)\n",
        "    mse = np.mean(squared_distances)\n",
        "\n",
        "    return mse"
      ],
      "metadata": {
        "id": "UqgAmXlovSTo"
      },
      "execution_count": null,
      "outputs": []
    },
    {
      "cell_type": "code",
      "source": [
        "def k_mean_algorithm(initial_centroids, data):\n",
        "    data = np.array(data)\n",
        "    k = len(initial_centroids)\n",
        "    centroids = np.array(initial_centroids, dtype=float)\n",
        "    clusters = {i: [] for i in range(k)}\n",
        "\n",
        "    while True:\n",
        "        # Clear clusters for new assignments\n",
        "        for i in clusters:\n",
        "          clusters[i] = []\n",
        "\n",
        "        # Assign each data point to the nearest centroid\n",
        "        for idx, point in enumerate(data):\n",
        "            distances = [euclidean_distance(point, centroids[j]) for j in range(k)]\n",
        "            nearest_centroid_index = np.argmin(distances)\n",
        "            clusters[nearest_centroid_index].append(point)  # Assign index of the point\n",
        "\n",
        "        # Calculate new centroids\n",
        "        new_centroids = np.zeros_like(centroids)\n",
        "        for i in range(k):\n",
        "            if clusters[i]:\n",
        "                numeric_data = np.array(clusters[i], dtype=float)\n",
        "                new_centroids[i] = np.mean(numeric_data, axis=0)\n",
        "            else:  # If a cluster is empty, reinitialize it\n",
        "                new_centroids[i] = data[np.random.randint(0, len(data))]\n",
        "\n",
        "        # Check for convergence\n",
        "        if np.allclose(centroids, new_centroids, atol=1e-4):\n",
        "            break\n",
        "        centroids = new_centroids\n",
        "\n",
        "    return centroids, clusters"
      ],
      "metadata": {
        "id": "bKxNKkVi9fUn"
      },
      "execution_count": null,
      "outputs": []
    },
    {
      "cell_type": "code",
      "source": [
        "initial_centroids = initialization(9, data, 72)"
      ],
      "metadata": {
        "id": "n-V-nCMlj0-K"
      },
      "execution_count": null,
      "outputs": []
    },
    {
      "cell_type": "code",
      "source": [
        "centroids, clusters = k_mean_algorithm(initial_centroids, data)"
      ],
      "metadata": {
        "id": "iK_7Fksvjfkb"
      },
      "execution_count": null,
      "outputs": []
    },
    {
      "cell_type": "code",
      "source": [
        "# def bisecting_kmeans(dataset, num_clusters, seed_value=72):\n",
        "#     clusters = {}\n",
        "#     clusters_keys = {0: [i for i in range(327)]}\n",
        "#     clusters[0] = dataset # Start with all data in one cluster\n",
        "#     if num_clusters == 1:\n",
        "#       return clusters\n",
        "#     elif num_clusters < 1:\n",
        "#       return 0\n",
        "#     total_length = 0\n",
        "\n",
        "\n",
        "#     while len(clusters) < num_clusters:\n",
        "#         total_length += 1\n",
        "#         max_sse = -1\n",
        "#         index_to_split = -1\n",
        "#         for i, cluster in enumerate(clusters.values()):\n",
        "#             # print('Evaluating cluster:', i, 'with size:', len(cluster))\n",
        "#             if len(cluster) > 1:  # Ensure there are enough points to split\n",
        "#                 sse = calculate_mse(cluster)\n",
        "#                 if sse > max_sse:\n",
        "#                     max_sse = sse\n",
        "#                     index_to_split = i\n",
        "\n",
        "#         if index_to_split != -1:\n",
        "#             initial_centroids = initialization(2, clusters[index_to_split], seed_value)\n",
        "#             cluster_assignment = {}\n",
        "#             centroids, cluster_assignment = k_mean_algorithm(initial_centroids, clusters[index_to_split])\n",
        "#             new_clusters = {0: [], 1: []}\n",
        "\n",
        "\n",
        "#             for i in range(len(cluster_assignment)):\n",
        "#               for j in range(len(cluster_assignment[i])):\n",
        "#                 new_clusters[i].append(cluster_assignment[i][j])\n",
        "\n",
        "\n",
        "\n",
        "#             new_clusters = {k: np.array(v) for k, v in new_clusters.items()}\n",
        "\n",
        "#             # Update the list of clusters\n",
        "#             clusters[index_to_split] = new_clusters[0]\n",
        "#             clusters[max(clusters.keys()) + 1] = new_clusters[1]\n",
        "#             clusters_keys[max(clusters_keys.keys()) + 1] = value_to_key_conversion(clusters, data)\n",
        "#             print(len(clusters))\n",
        "\n",
        "\n",
        "\n",
        "\n",
        "#     return clusters, clusters_keys\n"
      ],
      "metadata": {
        "id": "ZqYCixYQkPu7"
      },
      "execution_count": null,
      "outputs": []
    },
    {
      "cell_type": "code",
      "source": [
        "def value_to_key_conversion(clusters_dict, index_to_split, clusters_keys, data):\n",
        "  print(index_to_split)\n",
        "  index = []\n",
        "  indices = []\n",
        "  count = 0\n",
        "  new_keys = {}\n",
        "  new_keys = clusters_keys[max(clusters_keys.keys())]\n",
        "\n",
        "  for cluster_id, value in enumerate(clusters_dict.values()):\n",
        "    index = []\n",
        "    for cluster in value:\n",
        "      for i in range(len(data)):\n",
        "        if np.array_equal(np.array(cluster).astype(float), np.array(data[i]).astype(float)):\n",
        "          count+=1\n",
        "          index.append(i)\n",
        "          break\n",
        "\n",
        "    indices.append(index)\n",
        "\n",
        "  clusters_dict = {i: indices[i] for i in range(len(indices))}\n",
        "\n",
        "  new_keys[index_to_split] = clusters_dict[0]\n",
        "  new_keys[max(new_keys.keys()) + 1] = clusters_dict[1]\n",
        "  return new_keys.copy()\n"
      ],
      "metadata": {
        "id": "Y2HmcsOYiy8O"
      },
      "execution_count": null,
      "outputs": []
    },
    {
      "cell_type": "code",
      "source": [
        "def bisecting_kmeans(dataset, num_clusters, seed_value=72):\n",
        "    clusters = {}\n",
        "    clusters_keys = {}\n",
        "    clusters_keys[0] = {0: [i for i in range(327)]}\n",
        "    clusters[0] = dataset # Start with all data in one cluster\n",
        "    if num_clusters == 1:\n",
        "      return clusters\n",
        "    elif num_clusters < 1:\n",
        "      return 0\n",
        "    total_length = 0\n",
        "\n",
        "\n",
        "    while len(clusters) < num_clusters:\n",
        "\n",
        "        total_length += 1\n",
        "        max_sse = -1\n",
        "        index_to_split = -1\n",
        "        for i, cluster in enumerate(clusters.values()):\n",
        "            # print('Evaluating cluster:', i, 'with size:', len(cluster))\n",
        "            if len(cluster) > 1:  # Ensure there are enough points to split\n",
        "                sse = calculate_mse(cluster)\n",
        "                if sse > max_sse:\n",
        "                    max_sse = sse\n",
        "                    index_to_split = i\n",
        "\n",
        "        if index_to_split != -1:\n",
        "            initial_centroids = initialization(2, clusters[index_to_split], seed_value)\n",
        "            cluster_assignment = {}\n",
        "            centroids, cluster_assignment = k_mean_algorithm(initial_centroids, clusters[index_to_split])\n",
        "            new_clusters = {0: [], 1: []}\n",
        "\n",
        "\n",
        "            for i in range(len(cluster_assignment)):\n",
        "              for j in range(len(cluster_assignment[i])):\n",
        "                new_clusters[i].append(cluster_assignment[i][j])\n",
        "\n",
        "\n",
        "\n",
        "            new_clusters = {k: np.array(v) for k, v in new_clusters.items()}\n",
        "\n",
        "            # Update the list of clusters\n",
        "            clusters[index_to_split] = new_clusters[0]\n",
        "            clusters[max(clusters.keys()) + 1] = new_clusters[1]\n",
        "            new_key = value_to_key_conversion(new_clusters, index_to_split, clusters_keys.copy(), data)\n",
        "            # new_key = new_key.copy()\n",
        "            clusters_keys[max(clusters_keys.keys()) + 1] = new_key\n",
        "            # print(len(clusters))\n",
        "\n",
        "\n",
        "\n",
        "    return clusters, clusters_keys\n"
      ],
      "metadata": {
        "id": "SzeYQtrdicdH"
      },
      "execution_count": null,
      "outputs": []
    },
    {
      "cell_type": "code",
      "source": [
        "num_clusters = 9\n",
        "clusters_dict, keys = bisecting_kmeans(data, num_clusters, 72)"
      ],
      "metadata": {
        "colab": {
          "base_uri": "https://localhost:8080/"
        },
        "id": "RcvEHZ8m77el",
        "outputId": "deed3127-9d9e-4cb6-8468-4667b0f2121a"
      },
      "execution_count": null,
      "outputs": [
        {
          "output_type": "stream",
          "name": "stdout",
          "text": [
            "0\n",
            "0\n",
            "0\n",
            "3\n",
            "3\n",
            "0\n",
            "2\n",
            "6\n"
          ]
        }
      ]
    },
    {
      "cell_type": "code",
      "source": [
        "# print(len(keys[0]))\n",
        "# print(len(keys[1]))\n",
        "# print(len(keys[2]))\n",
        "# print(len(keys[2][1]))\n",
        "for i in range(len(keys)):\n",
        "  print(str(i) + 'th: ' + str(len(keys[i])))\n",
        "  for j in range(len(keys[i])):\n",
        "    print(str(j) + ': ' + str(len(keys[i][j])))\n"
      ],
      "metadata": {
        "colab": {
          "base_uri": "https://localhost:8080/"
        },
        "id": "DNmnYwJ1UXHk",
        "outputId": "88d455b8-15b6-4048-9188-ba83470bd6de"
      },
      "execution_count": null,
      "outputs": [
        {
          "output_type": "stream",
          "name": "stdout",
          "text": [
            "0th: 2\n",
            "0: 166\n",
            "1: 161\n",
            "1th: 3\n",
            "0: 80\n",
            "1: 161\n",
            "2: 86\n",
            "2th: 4\n",
            "0: 49\n",
            "1: 161\n",
            "2: 86\n",
            "3: 31\n",
            "3th: 5\n",
            "0: 49\n",
            "1: 161\n",
            "2: 86\n",
            "3: 15\n",
            "4: 16\n",
            "4th: 6\n",
            "0: 49\n",
            "1: 161\n",
            "2: 86\n",
            "3: 8\n",
            "4: 16\n",
            "5: 7\n",
            "5th: 7\n",
            "0: 20\n",
            "1: 161\n",
            "2: 86\n",
            "3: 8\n",
            "4: 16\n",
            "5: 7\n",
            "6: 29\n",
            "6th: 8\n",
            "0: 20\n",
            "1: 161\n",
            "2: 36\n",
            "3: 8\n",
            "4: 16\n",
            "5: 7\n",
            "6: 29\n",
            "7: 50\n",
            "7th: 9\n",
            "0: 20\n",
            "1: 161\n",
            "2: 36\n",
            "3: 8\n",
            "4: 16\n",
            "5: 7\n",
            "6: 22\n",
            "7: 50\n",
            "8: 7\n",
            "8th: 9\n",
            "0: 20\n",
            "1: 161\n",
            "2: 36\n",
            "3: 8\n",
            "4: 16\n",
            "5: 7\n",
            "6: 22\n",
            "7: 50\n",
            "8: 7\n"
          ]
        }
      ]
    },
    {
      "cell_type": "code",
      "source": [
        "print(print(keys[3][0]))\n",
        "print(print(keys[3][1]))\n",
        "print(print(keys[3][2]))\n",
        "print(print(keys[3][3]))"
      ],
      "metadata": {
        "colab": {
          "base_uri": "https://localhost:8080/"
        },
        "id": "pOg57c8Fh2pu",
        "outputId": "c5b0dc1f-9dc5-4fe2-a54e-ebabfc67d0f5"
      },
      "execution_count": null,
      "outputs": [
        {
          "output_type": "stream",
          "name": "stdout",
          "text": [
            "[0, 1, 2, 3, 4, 5, 6, 7, 8, 9, 10, 11, 12, 13, 14, 15, 16, 17, 18, 19, 20, 21, 22, 23, 24, 25, 27, 28, 29, 30, 31, 32, 33, 34, 35, 36, 37, 38, 39, 40, 41, 42, 43, 44, 45, 46, 47, 48, 49]\n",
            "None\n",
            "[50, 51, 52, 53, 54, 55, 56, 57, 58, 59, 60, 61, 62, 63, 64, 65, 66, 67, 68, 69, 70, 71, 72, 73, 74, 75, 76, 77, 78, 79, 80, 81, 82, 83, 84, 85, 86, 87, 88, 89, 90, 91, 92, 93, 94, 95, 96, 97, 98, 99, 100, 101, 102, 103, 104, 105, 106, 107, 108, 109, 110, 111, 112, 113, 114, 115, 116, 117, 118, 119, 120, 121, 122, 123, 124, 125, 126, 127, 128, 129, 130, 131, 132, 133, 134, 135, 136, 137, 138, 139, 140, 141, 142, 143, 144, 145, 146, 147, 148, 149, 150, 151, 152, 153, 154, 155, 156, 157, 158, 159, 160, 161, 162, 163, 164, 165, 166, 167, 168, 169, 170, 171, 172, 173, 174, 175, 176, 177, 178, 179, 180, 181, 182, 183, 184, 185, 186, 187, 188, 189, 190, 191, 192, 193, 194, 195, 196, 197, 198, 199, 200, 201, 202, 203, 204, 205, 206, 207, 208, 209, 210]\n",
            "None\n",
            "[211, 212, 213, 214, 217, 218, 220, 221, 224, 225, 226, 232, 234, 235, 236, 237, 245, 247, 248, 251, 252, 255, 256, 257, 258, 260, 262, 263, 266, 267, 268, 269, 270, 271, 272, 273, 274, 275, 276, 277, 278, 279, 280, 281, 282, 284, 285, 286, 287, 288, 289, 290, 291, 292, 293, 294, 295, 296, 297, 298, 299, 300, 301, 302, 303, 304, 305, 307, 308, 309, 310, 311, 312, 313, 314, 315, 316, 317, 318, 319, 320, 321, 322, 323, 325, 326]\n",
            "None\n",
            "[216, 219, 222, 223, 227, 228, 231, 233, 238, 239, 240, 254, 261, 283, 324]\n",
            "None\n"
          ]
        }
      ]
    },
    {
      "cell_type": "code",
      "source": [
        "def silhouette_coefficient(dataset, clusters, dist_matrix):\n",
        "    if len(clusters) < 2:\n",
        "      return 0\n",
        "\n",
        "    N = len(dataset)\n",
        "    silhouette = np.zeros(N)\n",
        "    a = np.zeros(N)\n",
        "    b = np.full(N, np.inf)  # Initialize b to infinity for proper minimum comparison\n",
        "\n",
        "    # Iterate over each cluster and each point within the cluster\n",
        "    for cluster_id, points_indices in clusters.items():\n",
        "\n",
        "        for index in points_indices:\n",
        "            # Calculate intra-cluster distances (a[index])\n",
        "            intra_distances = [dist_matrix[index, other] for other in points_indices if other != index]\n",
        "            a[index] = np.mean(intra_distances) if intra_distances else 0  # Avoid division by zero\n",
        "\n",
        "            # Calculate nearest other cluster distances (b[index])\n",
        "            for other_cluster_id, other_points_indices in clusters.items():\n",
        "                if other_cluster_id != cluster_id:\n",
        "                    # Calculate all distances from current point to points in other clusters\n",
        "                    inter_distances = [dist_matrix[index, other] for other in other_points_indices]\n",
        "                    if inter_distances:\n",
        "                        min_inter_distance = np.mean(inter_distances)\n",
        "                        if min_inter_distance < b[index]:\n",
        "                            b[index] = min_inter_distance\n",
        "\n",
        "\n",
        "    # Calculate the silhouette coefficient for each object\n",
        "    for i in range(N):\n",
        "        if a[i] > 0:\n",
        "            silhouette[i] = (b[i] - a[i]) / max(a[i], b[i])\n",
        "        else:\n",
        "            silhouette[i] = 0  # Can set to 0 or an appropriate value when a[i] is 0\n",
        "\n",
        "    return np.mean(silhouette)\n",
        "\n"
      ],
      "metadata": {
        "id": "sLL5vgJVodkr"
      },
      "execution_count": null,
      "outputs": []
    },
    {
      "cell_type": "code",
      "source": [
        "def silhouttee_scores(num_clusters, data, dist_matrix):\n",
        "  silhouette_scores = []\n",
        "  silhouette_scores.append(0)\n",
        "  clusters_dict, keys = bisecting_kmeans(data, k, 72)\n",
        "\n",
        "  for i, key  in keys.items():\n",
        "    scores = silhouette_coefficient(data, key, dist_matrix)\n",
        "    silhouette_scores.append(scores)\n",
        "  return silhouette_scores[:9]\n",
        "\n"
      ],
      "metadata": {
        "id": "rk_fpkp4myIK"
      },
      "execution_count": null,
      "outputs": []
    },
    {
      "cell_type": "code",
      "source": [
        "scores = silhouttee_scores(num_clusters, data, dist_matrix)"
      ],
      "metadata": {
        "colab": {
          "base_uri": "https://localhost:8080/"
        },
        "id": "leNe1fr5n0XR",
        "outputId": "e44e5854-e0c1-4e52-e1d9-ae7dddfb9144"
      },
      "execution_count": null,
      "outputs": [
        {
          "output_type": "stream",
          "name": "stdout",
          "text": [
            "0\n",
            "0\n",
            "0\n",
            "3\n",
            "3\n",
            "0\n",
            "2\n",
            "6\n"
          ]
        }
      ]
    },
    {
      "cell_type": "code",
      "source": [
        "print(scores)"
      ],
      "metadata": {
        "colab": {
          "base_uri": "https://localhost:8080/"
        },
        "id": "PBQGDi7Lo12M",
        "outputId": "452c23b9-de74-42f9-b74e-8c1470a0de13"
      },
      "execution_count": null,
      "outputs": [
        {
          "output_type": "stream",
          "name": "stdout",
          "text": [
            "[0, 0.1473173032244062, 0.1362254761070371, 0.1332001786401509, 0.1252843153615383, 0.1152991299360768, 0.10016494279613182, 0.1005455969765457, 0.10021500358863114]\n"
          ]
        }
      ]
    },
    {
      "cell_type": "code",
      "source": [
        "k = 9\n",
        "graph_k_and_silhouttee(k, scores)"
      ],
      "metadata": {
        "colab": {
          "base_uri": "https://localhost:8080/",
          "height": 472
        },
        "id": "YrYZvKx-n8Va",
        "outputId": "d753c4f2-0f5c-48e6-ae0a-5e03f88d4fd3"
      },
      "execution_count": null,
      "outputs": [
        {
          "output_type": "display_data",
          "data": {
            "text/plain": [
              "<Figure size 640x480 with 1 Axes>"
            ],
            "image/png": "[encoded data removed]"
          },
          "metadata": {}
        }
      ]
    },
    {
      "cell_type": "code",
      "source": [
        "get_silhouttee_scores(num_clusters, data, dist_matrix)"
      ],
      "metadata": {
        "id": "JHqYA7upnkXm"
      },
      "execution_count": null,
      "outputs": []
    },
    {
      "cell_type": "code",
      "source": [
        "silhouttee_scores = get_silhouttee_scores(data, clusters, dist_matrix)"
      ],
      "metadata": {
        "id": "AmB59bZonGgx"
      },
      "execution_count": null,
      "outputs": []
    }
  ],
  "metadata": {
    "colab": {
      "provenance": [],
      "authorship_tag": "ABX9TyMyCgl57/nL9wl0uWIZ3NUe",
      "include_colab_link": true
    },
    "kernelspec": {
      "display_name": "Python 3",
      "name": "python3"
    },
    "language_info": {
      "name": "python"
    }
  },
  "nbformat": 4,
  "nbformat_minor": 0
}